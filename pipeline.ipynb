{
 "cells": [
  {
   "cell_type": "code",
   "execution_count": 1,
   "metadata": {},
   "outputs": [],
   "source": [
    "import pipe, cv2\n",
    "import numpy as np\n",
    "import pickle\n",
    "import matplotlib.pyplot as plt"
   ]
  },
  {
   "cell_type": "code",
   "execution_count": 2,
   "metadata": {},
   "outputs": [],
   "source": [
    "src = np.float32([\n",
    "    [609, 441],\n",
    "    [674, 441],\n",
    "    [1099, 719],\n",
    "    [238, 719]\n",
    "])\n",
    "\n",
    "dst = np.float32([\n",
    "    [400, -200],\n",
    "    [800, -200],\n",
    "    [800, 720],\n",
    "    [400, 720]\n",
    "])\n",
    "\n",
    "vertices_undist = np.array([[(100, 720), (500, 450), (825, 450), (1200, 720)]], dtype=np.int32)\n",
    "vertices_perspective = np.array([[(340, 720), (340, 0), (950, 0), (950, 720)]], dtype=np.int32)\n",
    "vertices_perspective_remove = np.array([[(500, 720), (500, 0), (700, 0), (700, 720)]], dtype=np.int32)\n",
    "\n",
    "\n",
    "# window settings\n",
    "window_width =  30 \n",
    "window_height = 50 # Break image into 9 vertical layers since image height is 720\n",
    "margin = 100       # How much to slide left and right for searching\n",
    "\n",
    "dist_pickle = pickle.load(open(\"wide_dist_pickle.p\", \"rb\"))\n",
    "mtx = dist_pickle[\"mtx\"]\n",
    "dist = dist_pickle[\"dist\"]"
   ]
  },
  {
   "cell_type": "code",
   "execution_count": 3,
   "metadata": {},
   "outputs": [],
   "source": [
    "dignose_dir = 'dignose_41_42'\n",
    "is_dignose = False\n",
    "is_smooth = True\n",
    "\n",
    "curverad_dir = 'dignose_curverad'\n",
    "\n",
    "def process_image(image):    \n",
    "    # save failed images into a folder\n",
    "    if is_dignose:\n",
    "        plt.imsave('%s/test_%d' % (dignose_dir, process_image.no), image)\n",
    "        process_image.no += 1\n",
    "        \n",
    "    undist = pipe.pipe_distort2undistort(image, mtx, dist)\n",
    "    combined_binary = pipe.pipe_undistort2edges(undist)\n",
    "    combined_binary = pipe.region_of_interest(combined_binary, vertices_undist)\n",
    "    warped = pipe.pipe_edges2warped(combined_binary, src, dst)\n",
    "    # actually will make the line fit work bad.\n",
    "    # warped = pipe.region_of_interest(warped, vertices_perspective)\n",
    "    # warped = pipe.region_of_uninterest(warped, vertices_perspective_remove)\n",
    "    output, ploty, left_fitx, right_fitx, left_fit, right_fit = pipe.pipe_warped2data(warped, window_width, window_height, margin)\n",
    "        \n",
    "    if is_smooth:\n",
    "        process_image.last_left_fits = pipe.smooth_line(process_image.last_left_fits, left_fit, thresh=process_image.fit_thresh)\n",
    "        process_image.last_right_fits = pipe.smooth_line(process_image.last_right_fits, right_fit, thresh=process_image.fit_thresh)\n",
    "        left_fit = process_image.last_left_fits[-1]\n",
    "        right_fit = process_image.last_right_fits[-1]\n",
    "        \n",
    "        ## can average last 5 frames \n",
    "        \n",
    "        left_fitx = left_fit[0] * ploty ** 2 + left_fit[1] * ploty + left_fit[2]\n",
    "        right_fitx = right_fit[0] * ploty ** 2 + right_fit[1] * ploty + right_fit[2]\n",
    "    \n",
    "    result = pipe.pipe_warped2origin(warped, undist, ploty, left_fitx, right_fitx, src, dst)\n",
    "    \n",
    "    result = cv2.cvtColor(result, cv2.COLOR_RGB2BGR)\n",
    "    left_curverad, right_curverad, offset = pipe.compute_curverad_offset(left_fitx, right_fitx, ploty)\n",
    "    \n",
    "    #if abs(left_curverad - right_curverad) / min(left_curverad, right_curverad) > 0.3:\n",
    "    #    plt.imsave('%s/test_%d' % (curverad_dir, process_image.no), image)\n",
    "    #    process_image.no += 1\n",
    "    \n",
    "    result = pipe.draw_curverad_offset(result, left_curverad, right_curverad, offset)\n",
    "    return result"
   ]
  },
  {
   "cell_type": "code",
   "execution_count": 4,
   "metadata": {},
   "outputs": [
    {
     "name": "stdout",
     "output_type": "stream",
     "text": [
      "[MoviePy] >>>> Building video project_video_output.mp4\n",
      "[MoviePy] Writing video project_video_output.mp4\n"
     ]
    },
    {
     "name": "stderr",
     "output_type": "stream",
     "text": [
      "100%|█████████▉| 1260/1261 [02:10<00:00,  9.63it/s]\n"
     ]
    },
    {
     "name": "stdout",
     "output_type": "stream",
     "text": [
      "[MoviePy] Done.\n",
      "[MoviePy] >>>> Video ready: project_video_output.mp4 \n",
      "\n",
      "CPU times: user 2min 17s, sys: 12.6 s, total: 2min 30s\n",
      "Wall time: 2min 11s\n"
     ]
    }
   ],
   "source": [
    "# Import everything needed to edit/save/watch video clips\n",
    "from moviepy.editor import VideoFileClip\n",
    "from IPython.display import HTML\n",
    "\n",
    "process_image.no = 0\n",
    "process_image.last_left_fits = []\n",
    "process_image.last_right_fits = []\n",
    "process_image.fit_thresh = 100\n",
    "\n",
    "white_output = 'project_video_output.mp4'\n",
    "## To speed up the testing process you may want to try your pipeline on a shorter subclip of the video\n",
    "## To do so add .subclip(start_second,end_second) to the end of the line below\n",
    "## Where start_second and end_second are integer values representing the start and end of the subclip\n",
    "## You may also uncomment the following line for a subclip of the first 5 seconds\n",
    "##clip1 = VideoFileClip(\"test_videos/solidWhiteRight.mp4\").subclip(0,5)\n",
    "clip1 = VideoFileClip('project_video.mp4')#.subclip(40, 42)\n",
    "white_clip = clip1.fl_image(process_image) #NOTE: this function expects color images!!\n",
    "%time white_clip.write_videofile(white_output, audio=False)"
   ]
  },
  {
   "cell_type": "code",
   "execution_count": 6,
   "metadata": {},
   "outputs": [
    {
     "data": {
      "text/html": [
       "\n",
       "<video width=\"960\" height=\"540\" controls>\n",
       "  <source src=\"project_video_output.mp4\">\n",
       "</video>\n"
      ],
      "text/plain": [
       "<IPython.core.display.HTML object>"
      ]
     },
     "execution_count": 6,
     "metadata": {},
     "output_type": "execute_result"
    }
   ],
   "source": [
    "HTML(\"\"\"\n",
    "<video width=\"960\" height=\"540\" controls>\n",
    "  <source src=\"{0}\">\n",
    "</video>\n",
    "\"\"\".format(white_output))"
   ]
  },
  {
   "cell_type": "code",
   "execution_count": null,
   "metadata": {},
   "outputs": [],
   "source": []
  }
 ],
 "metadata": {
  "kernelspec": {
   "display_name": "Python 3",
   "language": "python",
   "name": "python3"
  },
  "language_info": {
   "codemirror_mode": {
    "name": "ipython",
    "version": 3
   },
   "file_extension": ".py",
   "mimetype": "text/x-python",
   "name": "python",
   "nbconvert_exporter": "python",
   "pygments_lexer": "ipython3",
   "version": "3.6.5"
  }
 },
 "nbformat": 4,
 "nbformat_minor": 2
}
